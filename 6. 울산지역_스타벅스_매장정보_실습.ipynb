{
 "cells": [
  {
   "cell_type": "markdown",
   "id": "c11190ad",
   "metadata": {},
   "source": [
    "# 스타벅스 매장 정보 스크래핑(울산)"
   ]
  },
  {
   "cell_type": "markdown",
   "id": "a4a5c0e9",
   "metadata": {},
   "source": [
    "## 시작 전 사전지식\n",
    "### 문자열에서 일부의 문자열을 추출하는 슬라이싱\n",
    "* 문자열에서 일부의 문자열을 추출하는 것을 슬라이싱이라 한다.\n",
    "* 문법 : 문자열[시작위치:마지막 위치]\n",
    "* 문자열의 시작위치에서 마지막 위치 전까지 문자열 잘라낸다.\n",
    "* 시작위치는 항상 0부터 시작한다.  \n",
    "  \n",
    "\n",
    "> name = 'hello python'    \n",
    "> name[0:4] -> 'hell'  \n",
    "> name[2:6] -> 'llo '  \n",
    "> name[0:-1] -> 'hello pytho'  \n",
    "> name[0:-2] -> 'hello pyth'  \n",
    "> name[:3] -> 'hel' : 시작 위치를 생략하면 처음부터 시작    \n",
    "> name[6:] -> 'python' : 마지막 위치를 생략하면 문자열 끝까지!"
   ]
  },
  {
   "cell_type": "markdown",
   "id": "82d65c40",
   "metadata": {},
   "source": [
    "###  1단계 : 필요한 라이브러리 설치\n",
    "* 앞선 실습을 통해 설치했기 때문에 지금은 설치할 필요 없음!"
   ]
  },
  {
   "cell_type": "code",
   "execution_count": null,
   "id": "c446fcc4",
   "metadata": {},
   "outputs": [],
   "source": [
    "pip install selenium"
   ]
  },
  {
   "cell_type": "code",
   "execution_count": null,
   "id": "31cc0783",
   "metadata": {},
   "outputs": [],
   "source": [
    "pip install webdriver"
   ]
  },
  {
   "cell_type": "markdown",
   "id": "77da70df",
   "metadata": {},
   "source": [
    "### 2단계 : 필요한 라이브러리 임포트하기"
   ]
  },
  {
   "cell_type": "code",
   "execution_count": 1,
   "id": "7cc27c7a",
   "metadata": {},
   "outputs": [],
   "source": [
    "from selenium import webdriver\n",
    "from selenium.webdriver.common.by import By\n",
    "import bs4\n",
    "import time\n",
    "import pandas as pd"
   ]
  },
  {
   "cell_type": "markdown",
   "id": "0838d147",
   "metadata": {},
   "source": [
    "### 3단계 : Chrome 브라우저 컨트롤을 프로그램 실행\n",
    "* 스타벅스 매장 정보 주소 (https://www.starbucks.co.kr/store/store_map.do)"
   ]
  },
  {
   "cell_type": "code",
   "execution_count": 4,
   "id": "87cf867b",
   "metadata": {},
   "outputs": [
    {
     "name": "stderr",
     "output_type": "stream",
     "text": [
      "C:\\Users\\KH302\\AppData\\Local\\Temp\\ipykernel_4928\\3760364597.py:2: DeprecationWarning: executable_path has been deprecated, please pass in a Service object\n",
      "  driver = webdriver.Chrome(\"C:/Users/KH302/파이썬_주말_특강/chromedriver_win32/chromedriver.exe\")\n"
     ]
    }
   ],
   "source": [
    "# 크롬 브라우저 실행\n",
    "driver = webdriver.Chrome(\"C:/Users/KH302/파이썬_주말_특강/chromedriver_win32/chromedriver.exe\")\n",
    "\n",
    "#크롬 브라우저에서 스타벅스 매장 정보 싸이트에 접속하고 코드를 작성!\n",
    "\n",
    "driver.get(\"https://www.starbucks.co.kr/store/store_map.do\")\n",
    "#싸이트 접속 후 3초간 대기\n",
    "time.sleep(3)"
   ]
  },
  {
   "cell_type": "markdown",
   "id": "674f92dc",
   "metadata": {},
   "source": [
    "### 4단계 : 본격적인 스크래핑 시작!"
   ]
  },
  {
   "cell_type": "code",
   "execution_count": 5,
   "id": "733648e9",
   "metadata": {},
   "outputs": [],
   "source": [
    "# 지역 검색 버튼을 찾는 코드를 작성\n",
    "loca=driver.find_element(By.CLASS_NAME, 'loca_search')\n",
    "\n",
    "# 찾은 버튼을 클릭하는 코드를 작성\n",
    "loca.click()\n",
    "\n",
    "#3초간 대기\n",
    "time.sleep(3)"
   ]
  },
  {
   "cell_type": "code",
   "execution_count": 9,
   "id": "5dd69051",
   "metadata": {},
   "outputs": [
    {
     "name": "stdout",
     "output_type": "stream",
     "text": [
      "찾은 <li> 태그는 모두 17개 입니다.\n"
     ]
    }
   ],
   "source": [
    "# 시/도 정보가 위치한 태그를 찾는 코드 작성\n",
    "sido=driver.find_element(By.CLASS_NAME, 'sido_arae_box')\n",
    "\n",
    "# 시/도 정보가 위치한 태그 안의 모든 li 태그를 찾는 코드 작성\n",
    "li=sido.find_elements(By.TAG_NAME, 'li')\n",
    "\n",
    "# 찾은 <li>태그의 개수 출력\n",
    "print(f'찾은 <li> 태그는 모두 {len(li)}개 입니다.')\n",
    "\n",
    "# 울산 지역의 <li>태그를 클릭한다. \n",
    "# python은 숫자를 샐 때 0부터 시작한다.!\n",
    "li[6].click()\n",
    "\n",
    "# 3초간 대기\n",
    "time.sleep(3)"
   ]
  },
  {
   "cell_type": "code",
   "execution_count": null,
   "id": "23b44ead",
   "metadata": {},
   "outputs": [],
   "source": [
    "# 구/군 정보가 위치한 태그를 찾는 코드 작성\n",
    "\n",
    "\n",
    "# 구/군 정보가 위치한 태그 안에서 전체 구군에 대한 \n",
    "# li 태그를 찾는 코드 작성\n",
    " \n",
    "\n",
    "# 찾은 태그 클릭\n",
    "\n",
    "\n",
    "#3초간 대기\n",
    "time.sleep(3)"
   ]
  },
  {
   "cell_type": "code",
   "execution_count": null,
   "id": "1c569de2",
   "metadata": {},
   "outputs": [],
   "source": [
    "# 현재 열려 있는 페이지의 모든 정보를 BeautifulSoup 형태로 변환(BeautifulSoup으로 변환하면 데이터를 가져 오지 편하다.)\n",
    "bs = bs4.BeautifulSoup(driver.page_source, 'lxml')\n",
    "\n",
    "#매장 이름이 있는 태그를 선택한다.(class가 loca_step3인 div태그를 선택)\n",
    "entire=bs.find('div', class_='loca_step3')\n",
    "\n",
    "#찾은 태그 안에서 li태그를 모두 선택한다.\n",
    "li_list = entire.findAll('li')\n",
    "li_list"
   ]
  },
  {
   "cell_type": "code",
   "execution_count": null,
   "id": "46f0fbba",
   "metadata": {},
   "outputs": [],
   "source": [
    "# 라인을 보기 좋게 맞춰 출력\n",
    "print(entire.prettify())"
   ]
  },
  {
   "cell_type": "code",
   "execution_count": null,
   "id": "e808c896",
   "metadata": {},
   "outputs": [],
   "source": [
    "#스크래핑을 잘 했는지 출력을 통해 확인해보자!\n",
    "#모든 li태그 안에서 strong태그 및 p태그 안의 글자를 가져오는 코드 작성\n"
   ]
  },
  {
   "cell_type": "code",
   "execution_count": null,
   "id": "9c1b4acb",
   "metadata": {},
   "outputs": [],
   "source": [
    "# 크롤링한 데이터를 엑셀로 추출하기 위한 작업 시작!\n",
    "nameList = [] #매장명을 저장할 변수\n",
    "arrList = [] #매장의 주소를 저장할 변수\n",
    "tellList = [] #매장의 연락처를 저장할 변수\n",
    "\n",
    "#li_list의 개수만큼 반복을 시작한다.\n",
    "#li_list의 데이터를 하나씩 빼서 infor라는 이름을 부여한다.\n",
    "for infor in li_list:\n",
    "    #매장 이름을 추출\n",
    "   \n",
    "    \n",
    "    #추출한 매장 이름을 nameList에 추가\n",
    "    \n",
    "    \n",
    "    #매장 주소와 연락처 정보를 추출\n",
    "    \n",
    "   \n",
    "    #주소 정보만 추출\n",
    "    \n",
    "    \n",
    "    #추출한 주소 정보를 arrList에 추가\n",
    "    \n",
    "    \n",
    "    #연락처 정보만 추출\n",
    "    \n",
    "    \n",
    "    #추출한 연락처 정보를 tellList 추가\n",
    "    "
   ]
  },
  {
   "cell_type": "code",
   "execution_count": null,
   "id": "3180097f",
   "metadata": {},
   "outputs": [],
   "source": [
    "#스크래핑한 모든 정보를 하나의데이터의 저장\n",
    "data = {\n",
    "    '상호명':nameList\n",
    "    , '주소':arrList\n",
    "    , '연락처':tellList\n",
    "}   \n",
    "\n",
    "df = pd.DataFrame(data)\n",
    "\n",
    "#엑셀 파일로 저장\n",
    "df.to_excel('울산_스타벅스_매장정보.xlsx')\n",
    "\n",
    "#완성된 출력\n",
    "df"
   ]
  }
 ],
 "metadata": {
  "kernelspec": {
   "display_name": "Python 3 (ipykernel)",
   "language": "python",
   "name": "python3"
  },
  "language_info": {
   "codemirror_mode": {
    "name": "ipython",
    "version": 3
   },
   "file_extension": ".py",
   "mimetype": "text/x-python",
   "name": "python",
   "nbconvert_exporter": "python",
   "pygments_lexer": "ipython3",
   "version": "3.9.13"
  }
 },
 "nbformat": 4,
 "nbformat_minor": 5
}
