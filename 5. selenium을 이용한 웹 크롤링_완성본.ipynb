{
 "cells": [
  {
   "cell_type": "markdown",
   "id": "21cda704-06c6-4de4-83a7-f77fbeec5728",
   "metadata": {},
   "source": [
    "### Target: 해시코드 로그인하기\n",
    "\n",
    "다음 사이트에 Selenium을 이용해서 로그인을 진행해봅시다 : https://hashcode.co.kr "
   ]
  },
  {
   "cell_type": "code",
   "execution_count": 3,
   "id": "e1e6514c",
   "metadata": {},
   "outputs": [
    {
     "name": "stderr",
     "output_type": "stream",
     "text": [
      "C:\\Users\\KH302\\AppData\\Local\\Temp\\ipykernel_9564\\2418448247.py:8: DeprecationWarning: executable_path has been deprecated, please pass in a Service object\n",
      "  driver = webdriver.Chrome(\"C:/Users/KH302/파이썬_주말_특강/chromedriver_win32/chromedriver.exe\")\n"
     ]
    }
   ],
   "source": [
    "# 크롤링에 필요한 라이브러리를 임포트합니다.\n",
    "from selenium import webdriver\n",
    "from selenium.webdriver import ActionChains\n",
    "from selenium.webdriver.common.by import By\n",
    "import time\n",
    "\n",
    "# 아래 코드가 실행되면 크롬이 실행됩니다.\n",
    "driver = webdriver.Chrome(\"C:/Users/KH302/파이썬_주말_특강/chromedriver_win32/chromedriver.exe\")\n",
    "\n",
    "# 실행한 크롬에서 저희가 지정한 웹 싸이트로 이동합니다.\n",
    "driver.get(\"https://hashcode.co.kr\")\n",
    "\n",
    "#1초간 대기\n",
    "time.sleep(5)\n",
    "\n",
    "# 내비게이션 바에서 \"로그인\" 글자를 찾습니다.\n",
    "spanTag = driver.find_element(By.CLASS_NAME, \"OACN0VVzDat3mKlZMOqF\")\n",
    "loginTag = spanTag.find_element(By.TAG_NAME, \"a\")\n",
    "\n",
    "#찾은 로그인 글자를 클릭합니다.\n",
    "ActionChains(driver).click(loginTag).perform()\n",
    "time.sleep(1)\n",
    "\n",
    "#이동한 페이지에서 이메일과 비밀번호를 입력하는 태그를 찾습니다.\n",
    "#해당 태그는 2개를 찾습니다.\n",
    "loginInfo =  driver.find_elements(By.CLASS_NAME,\"FymRFM681OjzOdzor5nk\")\n",
    "\n",
    "# \"이메일\" input 요소에 이메일 입력합니다.\n",
    "ActionChains(driver).send_keys_to_element(loginInfo[0], \"hamin2633@naver.com\").perform()\n",
    "time.sleep(1)\n",
    "\n",
    "# \"패스워드\" input 요소에 비밀번호를 입력합니다.\n",
    "ActionChains(driver).send_keys_to_element(loginInfo[1], \"dlgkals2633\").perform()\n",
    "time.sleep(1)\n",
    "\n",
    "# \"로그인\" 버튼을 눌러서 로그인을 완료합니다.\n",
    "login_button = driver.find_element(By.CLASS_NAME, \"itAWTII94uCyf9uUgREi\")\n",
    "ActionChains(driver).click(login_button).perform()"
   ]
  }
 ],
 "metadata": {
  "kernelspec": {
   "display_name": "Python 3 (ipykernel)",
   "language": "python",
   "name": "python3"
  },
  "language_info": {
   "codemirror_mode": {
    "name": "ipython",
    "version": 3
   },
   "file_extension": ".py",
   "mimetype": "text/x-python",
   "name": "python",
   "nbconvert_exporter": "python",
   "pygments_lexer": "ipython3",
   "version": "3.9.13"
  },
  "vscode": {
   "interpreter": {
    "hash": "26de051ba29f2982a8de78e945f0abaf191376122a1563185a90213a26c5da77"
   }
  }
 },
 "nbformat": 4,
 "nbformat_minor": 5
}
