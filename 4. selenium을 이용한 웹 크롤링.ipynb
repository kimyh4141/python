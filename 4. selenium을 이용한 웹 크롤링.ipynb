{
 "cells": [
  {
   "cell_type": "markdown",
   "id": "192778f5-b6a0-458f-9d28-2ecd531975a1",
   "metadata": {},
   "source": [
    "# 3. selenium을 이용한 웹 크롤링\n",
    "\n",
    "앞에서 BeautifulSoup 라이브러리를 활용한 웹 크롤링을 연습했습니다. 하지만 BeautifulSoup 라이브러리는 크롤링에 한계가 있습니다. 우리가 데이터를 수집한다면 한 페이지에만 머물러 있지 않고 여러 페이지로 이동하며 데이터를 수집하게 됩니다. 하지만 BeautifulSoup 라이브러리는 이러한 기능을 제공하지 않습니다. selenium은 웹 페이지에서 마우스 및 키보드 이벤트와 관련된 작업을 처리할 수 있어, 자동으로 페이지를 이동하며 크롤링 할 때 많이 사용합니다."
   ]
  },
  {
   "cell_type": "markdown",
   "id": "c0316b4c",
   "metadata": {},
   "source": [
    "- 먼저 selenium 사용을 위한 라이브러리를 설치해야 합니다."
   ]
  },
  {
   "cell_type": "code",
   "execution_count": 1,
   "id": "a8d8cf2d",
   "metadata": {},
   "outputs": [
    {
     "name": "stdout",
     "output_type": "stream",
     "text": [
      "Collecting selenium\n",
      "  Downloading selenium-4.8.2-py3-none-any.whl (6.9 MB)\n",
      "     ---------------------------------------- 6.9/6.9 MB 8.1 MB/s eta 0:00:00\n",
      "Collecting trio-websocket~=0.9\n",
      "  Downloading trio_websocket-0.9.2-py3-none-any.whl (16 kB)\n",
      "Requirement already satisfied: certifi>=2021.10.8 in c:\\users\\kh302\\anaconda3\\lib\\site-packages (from selenium) (2022.9.14)\n",
      "Collecting trio~=0.17\n",
      "  Downloading trio-0.22.0-py3-none-any.whl (384 kB)\n",
      "     -------------------------------------- 384.9/384.9 kB 4.0 MB/s eta 0:00:00\n",
      "Requirement already satisfied: urllib3[socks]~=1.26 in c:\\users\\kh302\\anaconda3\\lib\\site-packages (from selenium) (1.26.11)\n",
      "Requirement already satisfied: attrs>=19.2.0 in c:\\users\\kh302\\anaconda3\\lib\\site-packages (from trio~=0.17->selenium) (21.4.0)\n",
      "Requirement already satisfied: sortedcontainers in c:\\users\\kh302\\anaconda3\\lib\\site-packages (from trio~=0.17->selenium) (2.4.0)\n",
      "Collecting async-generator>=1.9\n",
      "  Downloading async_generator-1.10-py3-none-any.whl (18 kB)\n",
      "Requirement already satisfied: cffi>=1.14 in c:\\users\\kh302\\anaconda3\\lib\\site-packages (from trio~=0.17->selenium) (1.15.1)\n",
      "Requirement already satisfied: sniffio in c:\\users\\kh302\\anaconda3\\lib\\site-packages (from trio~=0.17->selenium) (1.2.0)\n",
      "Requirement already satisfied: idna in c:\\users\\kh302\\anaconda3\\lib\\site-packages (from trio~=0.17->selenium) (3.3)\n",
      "Collecting exceptiongroup>=1.0.0rc9\n",
      "  Downloading exceptiongroup-1.1.0-py3-none-any.whl (14 kB)\n",
      "Collecting outcome\n",
      "  Downloading outcome-1.2.0-py2.py3-none-any.whl (9.7 kB)\n",
      "Collecting wsproto>=0.14\n",
      "  Downloading wsproto-1.2.0-py3-none-any.whl (24 kB)\n",
      "Requirement already satisfied: PySocks!=1.5.7,<2.0,>=1.5.6 in c:\\users\\kh302\\anaconda3\\lib\\site-packages (from urllib3[socks]~=1.26->selenium) (1.7.1)\n",
      "Requirement already satisfied: pycparser in c:\\users\\kh302\\anaconda3\\lib\\site-packages (from cffi>=1.14->trio~=0.17->selenium) (2.21)\n",
      "Collecting h11<1,>=0.9.0\n",
      "  Downloading h11-0.14.0-py3-none-any.whl (58 kB)\n",
      "     ---------------------------------------- 58.3/58.3 kB 3.0 MB/s eta 0:00:00\n",
      "Installing collected packages: outcome, h11, exceptiongroup, async-generator, wsproto, trio, trio-websocket, selenium\n",
      "Successfully installed async-generator-1.10 exceptiongroup-1.1.0 h11-0.14.0 outcome-1.2.0 selenium-4.8.2 trio-0.22.0 trio-websocket-0.9.2 wsproto-1.2.0\n",
      "Note: you may need to restart the kernel to use updated packages.\n"
     ]
    }
   ],
   "source": [
    "pip install selenium"
   ]
  },
  {
   "cell_type": "code",
   "execution_count": 2,
   "id": "3c93cfa3",
   "metadata": {},
   "outputs": [
    {
     "name": "stdout",
     "output_type": "stream",
     "text": [
      "Collecting webdriver_manager\n",
      "  Downloading webdriver_manager-3.8.5-py2.py3-none-any.whl (27 kB)\n",
      "Collecting python-dotenv\n",
      "  Downloading python_dotenv-1.0.0-py3-none-any.whl (19 kB)\n",
      "Requirement already satisfied: packaging in c:\\users\\kh302\\anaconda3\\lib\\site-packages (from webdriver_manager) (21.3)\n",
      "Requirement already satisfied: requests in c:\\users\\kh302\\anaconda3\\lib\\site-packages (from webdriver_manager) (2.28.1)\n",
      "Requirement already satisfied: tqdm in c:\\users\\kh302\\anaconda3\\lib\\site-packages (from webdriver_manager) (4.64.1)\n",
      "Requirement already satisfied: pyparsing!=3.0.5,>=2.0.2 in c:\\users\\kh302\\anaconda3\\lib\\site-packages (from packaging->webdriver_manager) (3.0.9)\n",
      "Requirement already satisfied: certifi>=2017.4.17 in c:\\users\\kh302\\anaconda3\\lib\\site-packages (from requests->webdriver_manager) (2022.9.14)\n",
      "Requirement already satisfied: idna<4,>=2.5 in c:\\users\\kh302\\anaconda3\\lib\\site-packages (from requests->webdriver_manager) (3.3)\n",
      "Requirement already satisfied: charset-normalizer<3,>=2 in c:\\users\\kh302\\anaconda3\\lib\\site-packages (from requests->webdriver_manager) (2.0.4)\n",
      "Requirement already satisfied: urllib3<1.27,>=1.21.1 in c:\\users\\kh302\\anaconda3\\lib\\site-packages (from requests->webdriver_manager) (1.26.11)\n",
      "Requirement already satisfied: colorama in c:\\users\\kh302\\anaconda3\\lib\\site-packages (from tqdm->webdriver_manager) (0.4.5)\n",
      "Installing collected packages: python-dotenv, webdriver_manager\n",
      "Successfully installed python-dotenv-1.0.0 webdriver_manager-3.8.5\n",
      "Note: you may need to restart the kernel to use updated packages.\n"
     ]
    }
   ],
   "source": [
    "pip install webdriver_manager"
   ]
  },
  {
   "cell_type": "markdown",
   "id": "e0a274aa-bd9b-4bc6-b4e9-05b6f2b2ea18",
   "metadata": {},
   "source": [
    "### selenium을 이용한 태그 찾기\n",
    "* 하나의 태그를 찾는 방법\n",
    "    1. driver.find_element(By.TAG_NAME, '태그')\n",
    "    2. driver.find_element(By.ID, '태그의 아이디')\n",
    "    3. driver.find_element(By.CLASS_NAME, '태그의 클래스')  \n",
    "        \n",
    "        \n",
    "* 여러 태그를 찾는 방법\n",
    "    1. driver.find_elements(By.TAG_NAME, '태그')\n",
    "    2. driver.find_elements(By.ID, '태그의 아이디')\n",
    "    3. driver.find_elements(By.CLASS_NAME, '태그의 클래스')"
   ]
  },
  {
   "cell_type": "markdown",
   "id": "2089351f-aa4e-4177-ba76-5fbdddd02c8b",
   "metadata": {},
   "source": [
    "저희는 입력창(`input` 태그의 form)에 키보드 입력을 진행하는 것을 목표로 합니다.  \n",
    "키보드 입력은 크게 다음과 같은 과정을 거칩니다.\n",
    "\n",
    "1. 입력하고자 하는 대상 요소를 찾습니다. (`find_element()` 이용)\n",
    "2. 입력하고자 하는 내용을 `send_keys_to_element`를 통해 전달합니다.\n",
    "3. `.perform()`을 통해 동작합니다.\n",
    "\n",
    "아래 예시는 `id`가 textInput인 요소에 \"abc\"를 입력하는 예제입니다.\n",
    "```python\n",
    "text_input = driver.find_element(By.ID, \"textInput\")\n",
    "ActionChains(driver).send_keys_to_element(text_input, \"abc\").perform()\n",
    "```"
   ]
  },
  {
   "cell_type": "markdown",
   "id": "21cda704-06c6-4de4-83a7-f77fbeec5728",
   "metadata": {},
   "source": [
    "### Target: 해시코드 로그인하기\n",
    "\n",
    "다음 사이트에 Selenium을 이용해서 로그인을 진행해봅시다 : https://hashcode.co.kr "
   ]
  },
  {
   "cell_type": "code",
   "execution_count": 3,
   "id": "e1e6514c",
   "metadata": {},
   "outputs": [],
   "source": [
    "# 크롤링에 필요한 라이브러리를 임포트합니다.\n",
    "from selenium import webdriver\n",
    "from selenium.webdriver import ActionChains\n",
    "from selenium.webdriver.common.by import By\n",
    "import time"
   ]
  },
  {
   "cell_type": "code",
   "execution_count": 6,
   "id": "fed8c7ef",
   "metadata": {},
   "outputs": [
    {
     "name": "stderr",
     "output_type": "stream",
     "text": [
      "C:\\Users\\KH302\\AppData\\Local\\Temp\\ipykernel_1872\\3820039784.py:2: DeprecationWarning: executable_path has been deprecated, please pass in a Service object\n",
      "  driver = webdriver.Chrome(\"C:/Users/KH302/파이썬_주말_특강/chromedriver_win32/chromedriver.exe\")\n"
     ]
    }
   ],
   "source": [
    "# 아래 코드가 실행되면 크롬이 실행됩니다.\n",
    "driver = webdriver.Chrome(\"C:/Users/KH302/파이썬_주말_특강/chromedriver_win32/chromedriver.exe\")"
   ]
  },
  {
   "cell_type": "code",
   "execution_count": 7,
   "id": "daa0b219",
   "metadata": {},
   "outputs": [],
   "source": [
    "# 실행한 크롬에서 저희가 지정한 웹 싸이트로 이동합니다.\n",
    "driver.get(\"https://hashcode.co.kr\")"
   ]
  },
  {
   "cell_type": "code",
   "execution_count": 9,
   "id": "552c43f6",
   "metadata": {},
   "outputs": [],
   "source": [
    "# 내비게이션 바에서 \"로그인\" 글자를 찾습니다.\n",
    "spanTag = driver.find_element(By.CLASS_NAME, \"OACN0VVzDat3mKlZMOqF\")\n",
    "loginTag = spanTag.find_element(By.TAG_NAME, \"a\")\n",
    "\n",
    "#찾은 로그인 글자를 클릭합니다.\n",
    "ActionChains(driver).click(loginTag).perform()"
   ]
  },
  {
   "cell_type": "code",
   "execution_count": 11,
   "id": "2b48cc88",
   "metadata": {},
   "outputs": [],
   "source": [
    "time.sleep(3);\n",
    "\n",
    "#이동한 페이지에서 이메일과 비밀번호를 입력하는 태그를 찾습니다.\n",
    "#해당 태그는 2개를 찾습니다.\n",
    "loginInfo =  driver.find_elements(By.CLASS_NAME,\"FymRFM681OjzOdzor5nk\")\n",
    "\n",
    "# \"이메일\" input 요소에 이메일 입력합니다.\n",
    "ActionChains(driver).send_keys_to_element(loginInfo[0], \"hamin2633@naver.com\").perform()\n",
    "time.sleep(1)\n",
    "\n",
    "# \"패스워드\" input 요소에 비밀번호를 입력합니다.\n",
    "ActionChains(driver).send_keys_to_element(loginInfo[1], \"dlgkals2633\").perform()"
   ]
  },
  {
   "cell_type": "code",
   "execution_count": 12,
   "id": "80b21410-4429-470b-b7ab-a632cae667e6",
   "metadata": {},
   "outputs": [],
   "source": [
    "# \"로그인\" 버튼을 눌러서 로그인을 완료합니다.\n",
    "login_button = driver.find_element(By.CLASS_NAME, \"itAWTII94uCyf9uUgREi\")\n",
    "ActionChains(driver).click(login_button).perform()"
   ]
  },
  {
   "cell_type": "markdown",
   "id": "c3294b64-5e6c-4ca5-9e8b-4bc793837a39",
   "metadata": {},
   "source": [
    "이렇게 저희가 로그인을 손 대지 않고 진행하는 실습을 진행해보았습니다.  \n",
    "이를 바탕으로 로그인이 필요한 정보를 크롤링할 수 있겠죠? :)"
   ]
  }
 ],
 "metadata": {
  "kernelspec": {
   "display_name": "Python 3 (ipykernel)",
   "language": "python",
   "name": "python3"
  },
  "language_info": {
   "codemirror_mode": {
    "name": "ipython",
    "version": 3
   },
   "file_extension": ".py",
   "mimetype": "text/x-python",
   "name": "python",
   "nbconvert_exporter": "python",
   "pygments_lexer": "ipython3",
   "version": "3.9.13"
  },
  "vscode": {
   "interpreter": {
    "hash": "26de051ba29f2982a8de78e945f0abaf191376122a1563185a90213a26c5da77"
   }
  }
 },
 "nbformat": 4,
 "nbformat_minor": 5
}
