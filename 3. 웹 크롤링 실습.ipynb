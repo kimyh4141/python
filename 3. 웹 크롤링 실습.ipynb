{
 "cells": [
  {
   "cell_type": "markdown",
   "id": "192778f5-b6a0-458f-9d28-2ecd531975a1",
   "metadata": {},
   "source": [
    "## 원하는 요소 가져오기 1 - 책 이름 모으기\n",
    "\n",
    "- 연습만이 살길! 예시 사이트를 통해 스크래핑을 진행해봅시다."
   ]
  },
  {
   "cell_type": "markdown",
   "id": "21cda704-06c6-4de4-83a7-f77fbeec5728",
   "metadata": {},
   "source": [
    "### Target: Mock Book Data\n",
    "\n",
    "다음 사이트에 있는 책들의 이름 정보를 스크래핑 해봅시다 : http://books.toscrape.com/catalogue/category/books/travel_2/index.html  \n",
    "\n",
    "해당 웹 페이지는 임의의 책 정보가 담긴 웹 사이트입니다."
   ]
  },
  {
   "cell_type": "code",
   "execution_count": 27,
   "id": "e1e6514c",
   "metadata": {},
   "outputs": [],
   "source": [
    "# 스크래핑에 필요한 라이브러리를 통해 해당 싸이트의 정보를 가져옵니다.\n",
    "from urllib.request import urlopen\n",
    "from bs4 import BeautifulSoup\n",
    "\n",
    "html = urlopen('http://books.toscrape.com/catalogue/category/books/travel_2/index.html')\n",
    "bs = BeautifulSoup(html, 'html.parser')"
   ]
  },
  {
   "cell_type": "code",
   "execution_count": 28,
   "id": "3d6e0826",
   "metadata": {},
   "outputs": [
    {
     "name": "stdout",
     "output_type": "stream",
     "text": [
      "<h3><a href=\"../../../its-only-the-himalayas_981/index.html\" title=\"It's Only the Himalayas\">It's Only the Himalayas</a></h3>\n",
      "It's Only the Himalayas\n",
      "<a href=\"../../../its-only-the-himalayas_981/index.html\" title=\"It's Only the Himalayas\">It's Only the Himalayas</a>\n",
      "<title>\n",
      "    Travel | \n",
      "     Books to Scrape - Sandbox\n",
      "\n",
      "</title>\n",
      "<h3><a href=\"../../../its-only-the-himalayas_981/index.html\" title=\"It's Only the Himalayas\">It's Only the Himalayas</a></h3>\n"
     ]
    }
   ],
   "source": [
    "# 싸이트에 접속하여 책 이름이 어떻게 나오는지 알아봅시다.\n",
    "# 책 제목은 <h3>에 들어가 있네요!\n",
    "\n",
    "# 먼저, <h3>태그에 해당하는 요소를 하나 찾아 출력해보세요!\n",
    "tag=bs.find('h3')\n",
    "print(tag)\n",
    "print(tag.get_text())\n",
    "print(tag.a)\n",
    "print(bs.title)\n",
    "print(bs.h3)"
   ]
  },
  {
   "cell_type": "code",
   "execution_count": 29,
   "id": "c1e6aeea",
   "metadata": {},
   "outputs": [
    {
     "name": "stdout",
     "output_type": "stream",
     "text": [
      "[<h3><a href=\"../../../its-only-the-himalayas_981/index.html\" title=\"It's Only the Himalayas\">It's Only the Himalayas</a></h3>, <h3><a href=\"../../../full-moon-over-noahs-ark-an-odyssey-to-mount-ararat-and-beyond_811/index.html\" title=\"Full Moon over Noah’s Ark: An Odyssey to Mount Ararat and Beyond\">Full Moon over Noah’s ...</a></h3>, <h3><a href=\"../../../see-america-a-celebration-of-our-national-parks-treasured-sites_732/index.html\" title=\"See America: A Celebration of Our National Parks &amp; Treasured Sites\">See America: A Celebration ...</a></h3>, <h3><a href=\"../../../vagabonding-an-uncommon-guide-to-the-art-of-long-term-world-travel_552/index.html\" title=\"Vagabonding: An Uncommon Guide to the Art of Long-Term World Travel\">Vagabonding: An Uncommon Guide ...</a></h3>, <h3><a href=\"../../../under-the-tuscan-sun_504/index.html\" title=\"Under the Tuscan Sun\">Under the Tuscan Sun</a></h3>, <h3><a href=\"../../../a-summer-in-europe_458/index.html\" title=\"A Summer In Europe\">A Summer In Europe</a></h3>, <h3><a href=\"../../../the-great-railway-bazaar_446/index.html\" title=\"The Great Railway Bazaar\">The Great Railway Bazaar</a></h3>, <h3><a href=\"../../../a-year-in-provence-provence-1_421/index.html\" title=\"A Year in Provence (Provence #1)\">A Year in Provence ...</a></h3>, <h3><a href=\"../../../the-road-to-little-dribbling-adventures-of-an-american-in-britain-notes-from-a-small-island-2_277/index.html\" title=\"The Road to Little Dribbling: Adventures of an American in Britain (Notes From a Small Island #2)\">The Road to Little ...</a></h3>, <h3><a href=\"../../../neither-here-nor-there-travels-in-europe_198/index.html\" title=\"Neither Here nor There: Travels in Europe\">Neither Here nor There: ...</a></h3>, <h3><a href=\"../../../1000-places-to-see-before-you-die_1/index.html\" title=\"1,000 Places to See Before You Die\">1,000 Places to See ...</a></h3>]\n"
     ]
    }
   ],
   "source": [
    "# <h3> 태그에 해당하는 요소를 모두 찾아 출력해보세요!\n",
    "tags=bs.findAll('h3')\n",
    "print(tags)"
   ]
  },
  {
   "cell_type": "code",
   "execution_count": 30,
   "id": "e1af00f8-647a-4792-83bf-4a72a68c7c71",
   "metadata": {},
   "outputs": [
    {
     "name": "stdout",
     "output_type": "stream",
     "text": [
      "It's Only the Himalayas\n",
      "Full Moon over Noah’s ...\n",
      "See America: A Celebration ...\n",
      "Vagabonding: An Uncommon Guide ...\n",
      "Under the Tuscan Sun\n",
      "A Summer In Europe\n",
      "The Great Railway Bazaar\n",
      "A Year in Provence ...\n",
      "The Road to Little ...\n",
      "Neither Here nor There: ...\n",
      "1,000 Places to See ...\n"
     ]
    }
   ],
   "source": [
    "# 우리가 원하는 제목(title)만  text 형태로 추출해봅시다.\n",
    "for tag in tags:\n",
    "    print(tag.get_text())"
   ]
  },
  {
   "cell_type": "markdown",
   "id": "48c348a3",
   "metadata": {},
   "source": [
    "## 원하는 요소 가져오기 2 - 네이버 메뉴 가져오기\n",
    "* 네이버 싸이트 (http://www.naver.com) 의 메뉴를 출력해봅시다.\n",
    "* 사전, 뉴스, 증권, 부동산, 지도, VIBE, 도서, 웹툰 등이 출력되면 됩니다."
   ]
  },
  {
   "cell_type": "code",
   "execution_count": 31,
   "id": "a2faa390",
   "metadata": {},
   "outputs": [
    {
     "name": "stdout",
     "output_type": "stream",
     "text": [
      "<ul class=\"list_nav NM_FAVORITE_LIST\">\n",
      "<li class=\"nav_item\"><a class=\"nav\" data-clk=\"svc.dic\" href=\"https://dict.naver.com/\">사전</a></li>\n",
      "<li class=\"nav_item\"><a class=\"nav\" data-clk=\"svc.news\" href=\"https://news.naver.com/\">뉴스</a></li>\n",
      "<li class=\"nav_item\"><a class=\"nav\" data-clk=\"svc.stock\" href=\"https://finance.naver.com/\">증권</a></li>\n",
      "<li class=\"nav_item\"><a class=\"nav\" data-clk=\"svc.land\" href=\"https://land.naver.com/\">부동산</a></li>\n",
      "<li class=\"nav_item\"><a class=\"nav\" data-clk=\"svc.map\" href=\"https://map.naver.com/\">지도</a></li>\n",
      "<li class=\"nav_item\"><a class=\"nav\" data-clk=\"svc.vibe\" href=\"https://vibe.naver.com/?from=naver_main&amp;utm_source=naver_main&amp;utm_medium=naver_main_pcweb&amp;utm_campaign=naver_main_redirect\">VIBE</a></li>\n",
      "<li class=\"nav_item\"><a class=\"nav\" data-clk=\"svc.book\" href=\"https://search.shopping.naver.com/book/home\">도서</a></li>\n",
      "<li class=\"nav_item\"><a class=\"nav\" data-clk=\"svc.webtoon\" href=\"https://comic.naver.com/\">웹툰</a></li>\n",
      "</ul>\n",
      "\n",
      "\n",
      "사전\n",
      "\n",
      "\n",
      "뉴스\n",
      "\n",
      "\n",
      "증권\n",
      "\n",
      "\n",
      "부동산\n",
      "\n",
      "\n",
      "지도\n",
      "\n",
      "\n",
      "VIBE\n",
      "\n",
      "\n",
      "도서\n",
      "\n",
      "\n",
      "웹툰\n",
      "\n",
      "\n"
     ]
    }
   ],
   "source": [
    "# 여기에 코드를 작성하세요.\n",
    "from urllib.request import urlopen\n",
    "from bs4 import BeautifulSoup\n",
    "html = urlopen('http://www.naver.com')\n",
    "bs = BeautifulSoup(html, 'html.parser')\n",
    "\n",
    "menuList=bs.find('ul', class_='NM_FAVORITE_LIST')\n",
    "print(menuList)\n",
    "for menu in menuList:\n",
    "    print(menu.get_text())"
   ]
  }
 ],
 "metadata": {
  "kernelspec": {
   "display_name": "Python 3 (ipykernel)",
   "language": "python",
   "name": "python3"
  },
  "language_info": {
   "codemirror_mode": {
    "name": "ipython",
    "version": 3
   },
   "file_extension": ".py",
   "mimetype": "text/x-python",
   "name": "python",
   "nbconvert_exporter": "python",
   "pygments_lexer": "ipython3",
   "version": "3.9.13"
  },
  "vscode": {
   "interpreter": {
    "hash": "26de051ba29f2982a8de78e945f0abaf191376122a1563185a90213a26c5da77"
   }
  }
 },
 "nbformat": 4,
 "nbformat_minor": 5
}
