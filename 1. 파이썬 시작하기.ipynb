{
 "cells": [
  {
   "cell_type": "markdown",
   "id": "a18267f4",
   "metadata": {},
   "source": [
    "# 1. 파이썬 시작하기"
   ]
  },
  {
   "cell_type": "markdown",
   "id": "4b2266b2",
   "metadata": {},
   "source": [
    "## 웹 스크래핑을 위한 파이썬 기초"
   ]
  },
  {
   "cell_type": "markdown",
   "id": "b23da199",
   "metadata": {},
   "source": [
    "### 파이썬 출력문\n",
    "* print() 함수를 사용하여 여러 정보를 출력할 수 있습니다.\n",
    "* 출력 시 문자는 홀따옴표에 감싸야하고, 숫자는 홀따옴표에 감싸지 않습니다.\n",
    "* print()로 변수에 저장한 값을 출력할 때에는 변수명에 홀따옴표를 붙이지 않습니다."
   ]
  },
  {
   "cell_type": "code",
   "execution_count": 4,
   "id": "8794b568",
   "metadata": {},
   "outputs": [
    {
     "name": "stdout",
     "output_type": "stream",
     "text": [
      "10\n",
      "10.5\n",
      "Hello~\n",
      "파이썬은 쉽습니다~ 날먹가능\n",
      "name 변수에 저장된 값 = python\n",
      "age 변수에 저장된 값 = 20\n"
     ]
    }
   ],
   "source": [
    "# 숫자 출력\n",
    "print(10)\n",
    "print(10.5)\n",
    "\n",
    "# 문자 출력\n",
    "print('Hello~')\n",
    "print('파이썬은 쉽습니다~ 날먹가능')\n",
    "\n",
    "# 변수 생성 및 출력\n",
    "# , 사용으로 여러 데이터를 한 번에 출력할 수 있습니다.\n",
    "name = 'python'\n",
    "age = 20\n",
    "print('name 변수에 저장된 값 =', name)\n",
    "print('age 변수에 저장된 값 =', age)"
   ]
  },
  {
   "cell_type": "markdown",
   "id": "249819d0",
   "metadata": {},
   "source": [
    "### 변수와 출력문 \n",
    "* 변수란 데이터를 저장하기 위한 상자라고 생각하세요.\n",
    "* 이러한 상자에 저장된 데이터는 필요에 따라 변경 할 수 있습니다."
   ]
  },
  {
   "cell_type": "code",
   "execution_count": null,
   "id": "79d740d5",
   "metadata": {},
   "outputs": [],
   "source": [
    "# 변수 생성\n",
    "# 파이썬에서 '=' 는 같다는 의미가 아닙니다! 우측 항을 왼쪽항에 저장한다는 의미입니다.\n",
    "# 아래 코드를 해석하면 'python' 문자를 name이라는 변수(상자)에 저장한다는 의미입니다.\n",
    "# 문자는 반드시 홀따옴표에 감싸서 표현합니다.\n",
    "name = 'python'\n",
    "\n",
    "# 아래 코드를 해석하면 30을 age이라는 변수(상자)에 저장한다는 의미입니다.\n",
    "# 숫자는 홀따옴표에 감싸지 않습니다.!\n",
    "age = 30\n",
    "\n",
    "# print() 함수를 통해 변수에 저장된 값을 출력할 수 있습니다.\n",
    "print(name)\n",
    "print(age)\n",
    "\n",
    "# 주의!!!\n",
    "# print(name) -> 이 코드는 name이라는 변수에 저장된 값을 출력하라는 의미입니다.\n",
    "# print('name') -> 이 코드는 'name'이라는 문자를 출력하라는 의미입니다."
   ]
  },
  {
   "cell_type": "markdown",
   "id": "0624597b",
   "metadata": {},
   "source": [
    "### 리스트 자료형\n",
    "* 리스트란 여러 데이터를 갖는 자료의 형태를 말합니다.\n",
    "* 리스트 자료는 []안에 데이터를 표현합니다."
   ]
  },
  {
   "cell_type": "code",
   "execution_count": 6,
   "id": "f268f54c",
   "metadata": {},
   "outputs": [],
   "source": [
    "lsit1 = [] # 아무 데이터도 없는 리스트\n",
    "numbers = [1, 2, 3] # 숫자 세 개의 데이터를 갖는 리스트\n",
    "fruits = ['apple', 'strawberry', 'banana'] #문자 세 개를 갖는 리스트"
   ]
  },
  {
   "cell_type": "code",
   "execution_count": 5,
   "id": "6a1829f4",
   "metadata": {},
   "outputs": [
    {
     "name": "stdout",
     "output_type": "stream",
     "text": [
      "['python', 'java', 'c++']\n"
     ]
    }
   ],
   "source": [
    "# append 함수를 사용하여 리스트에 데이터를 추가 할 수 있습니다.\n",
    "lang = []\n",
    "lang.append('python')\n",
    "lang.append('java')\n",
    "lang.append('c++')\n",
    "print(lang)"
   ]
  },
  {
   "cell_type": "code",
   "execution_count": 16,
   "id": "3fc5d11d",
   "metadata": {
    "scrolled": true
   },
   "outputs": [
    {
     "name": "stdout",
     "output_type": "stream",
     "text": [
      "홍길동\n",
      "유관순\n",
      "이순신\n"
     ]
    }
   ],
   "source": [
    "students = ['홍길동', '유관순', '이순신']\n",
    "\n",
    "# for는 특정한 코드를 반복적으로 실행할 떄 사용하는 문법입니다.\n",
    "# 아래 코드는 students 리스트에 저장된 데이터의 수만큼 반복합니다.\n",
    "# students에 저장된 데이터를 순서대로 하나씩 꺼내어 student라는 변수에 저장하여 출력합니다.\n",
    "for student in students :\n",
    "    print(student)"
   ]
  }
 ],
 "metadata": {
  "kernelspec": {
   "display_name": "Python 3 (ipykernel)",
   "language": "python",
   "name": "python3"
  },
  "language_info": {
   "codemirror_mode": {
    "name": "ipython",
    "version": 3
   },
   "file_extension": ".py",
   "mimetype": "text/x-python",
   "name": "python",
   "nbconvert_exporter": "python",
   "pygments_lexer": "ipython3",
   "version": "3.9.13"
  }
 },
 "nbformat": 4,
 "nbformat_minor": 5
}
